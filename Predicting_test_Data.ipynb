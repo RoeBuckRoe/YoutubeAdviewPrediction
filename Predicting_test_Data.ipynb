{
  "nbformat": 4,
  "nbformat_minor": 0,
  "metadata": {
    "colab": {
      "name": "Predicting_test_Data.ipynb",
      "provenance": [],
      "collapsed_sections": []
    },
    "kernelspec": {
      "name": "python3",
      "display_name": "Python 3"
    }
  },
  "cells": [
    {
      "cell_type": "code",
      "metadata": {
        "id": "V78a6XFpHjGx"
      },
      "source": [
        "import numpy as np\r\n",
        "import pandas as pd\r\n",
        "import matplotlib.cm as cm\r\n",
        "import matplotlib.pyplot as plt\r\n",
        "from sklearn import metrics\r\n",
        "import tensorflow as tf"
      ],
      "execution_count": null,
      "outputs": []
    },
    {
      "cell_type": "markdown",
      "metadata": {
        "id": "ntfPHt6H3XeQ"
      },
      "source": [
        "# Preprocessing Test.csv"
      ]
    },
    {
      "cell_type": "markdown",
      "metadata": {
        "id": "un0-8RZy5X9I"
      },
      "source": [
        "Uploading test.csv"
      ]
    },
    {
      "cell_type": "code",
      "metadata": {
        "colab": {
          "resources": {
            "http://localhost:8080/nbextensions/google.colab/files.js": {
              "data": "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",
              "ok": true,
              "headers": [
                [
                  "content-type",
                  "application/javascript"
                ]
              ],
              "status": 200,
              "status_text": ""
            }
          },
          "base_uri": "https://localhost:8080/",
          "height": 73
        },
        "id": "V8xykgfPYrLz",
        "outputId": "6832cd28-952a-487c-e06c-218d98120708"
      },
      "source": [
        "from google.colab import files\r\n",
        "\r\n",
        "uploaded = files.upload()"
      ],
      "execution_count": null,
      "outputs": [
        {
          "output_type": "display_data",
          "data": {
            "text/html": [
              "\n",
              "     <input type=\"file\" id=\"files-41bcd948-a5f8-4bfe-bf18-fd936b4618f2\" name=\"files[]\" multiple disabled\n",
              "        style=\"border:none\" />\n",
              "     <output id=\"result-41bcd948-a5f8-4bfe-bf18-fd936b4618f2\">\n",
              "      Upload widget is only available when the cell has been executed in the\n",
              "      current browser session. Please rerun this cell to enable.\n",
              "      </output>\n",
              "      <script src=\"/nbextensions/google.colab/files.js\"></script> "
            ],
            "text/plain": [
              "<IPython.core.display.HTML object>"
            ]
          },
          "metadata": {
            "tags": []
          }
        },
        {
          "output_type": "stream",
          "text": [
            "Saving test.csv to test.csv\n"
          ],
          "name": "stdout"
        }
      ]
    },
    {
      "cell_type": "markdown",
      "metadata": {
        "id": "fg6OeVDs5eqS"
      },
      "source": [
        "load test.csv to data_test variable"
      ]
    },
    {
      "cell_type": "code",
      "metadata": {
        "id": "3V_DMBfdZTg9"
      },
      "source": [
        "data_test = pd.read_csv('/content/test.csv')"
      ],
      "execution_count": null,
      "outputs": []
    },
    {
      "cell_type": "markdown",
      "metadata": {
        "id": "rUKlbyR15mDv"
      },
      "source": [
        "Assigning numbers for category features"
      ]
    },
    {
      "cell_type": "code",
      "metadata": {
        "colab": {
          "base_uri": "https://localhost:8080/",
          "height": 195
        },
        "id": "XvHRJD-yZNwB",
        "outputId": "64fb031c-7f88-43a4-bf9a-a475fed058ea"
      },
      "source": [
        "data_test.category[data_test.category == 'A'] = 1\r\n",
        "data_test.category[data_test.category == 'B'] = 2\r\n",
        "data_test.category[data_test.category == 'C'] = 3\r\n",
        "data_test.category[data_test.category == 'D'] = 4\r\n",
        "data_test.category[data_test.category == 'E'] = 5\r\n",
        "data_test.category[data_test.category == 'F'] = 6\r\n",
        "data_test.category[data_test.category == 'G'] = 7\r\n",
        "data_test.category[data_test.category == 'H'] = 8\r\n",
        "data_test.head()"
      ],
      "execution_count": null,
      "outputs": [
        {
          "output_type": "execute_result",
          "data": {
            "text/html": [
              "<div>\n",
              "<style scoped>\n",
              "    .dataframe tbody tr th:only-of-type {\n",
              "        vertical-align: middle;\n",
              "    }\n",
              "\n",
              "    .dataframe tbody tr th {\n",
              "        vertical-align: top;\n",
              "    }\n",
              "\n",
              "    .dataframe thead th {\n",
              "        text-align: right;\n",
              "    }\n",
              "</style>\n",
              "<table border=\"1\" class=\"dataframe\">\n",
              "  <thead>\n",
              "    <tr style=\"text-align: right;\">\n",
              "      <th></th>\n",
              "      <th>vidid</th>\n",
              "      <th>views</th>\n",
              "      <th>likes</th>\n",
              "      <th>dislikes</th>\n",
              "      <th>comment</th>\n",
              "      <th>published</th>\n",
              "      <th>duration</th>\n",
              "      <th>category</th>\n",
              "    </tr>\n",
              "  </thead>\n",
              "  <tbody>\n",
              "    <tr>\n",
              "      <th>0</th>\n",
              "      <td>VID_1054</td>\n",
              "      <td>440238</td>\n",
              "      <td>6153</td>\n",
              "      <td>218</td>\n",
              "      <td>1377</td>\n",
              "      <td>2017-02-18</td>\n",
              "      <td>PT7M29S</td>\n",
              "      <td>2</td>\n",
              "    </tr>\n",
              "    <tr>\n",
              "      <th>1</th>\n",
              "      <td>VID_18629</td>\n",
              "      <td>1040132</td>\n",
              "      <td>8171</td>\n",
              "      <td>340</td>\n",
              "      <td>1047</td>\n",
              "      <td>2016-06-28</td>\n",
              "      <td>PT6M29S</td>\n",
              "      <td>6</td>\n",
              "    </tr>\n",
              "    <tr>\n",
              "      <th>2</th>\n",
              "      <td>VID_13967</td>\n",
              "      <td>28534</td>\n",
              "      <td>31</td>\n",
              "      <td>11</td>\n",
              "      <td>1</td>\n",
              "      <td>2014-03-10</td>\n",
              "      <td>PT37M54S</td>\n",
              "      <td>4</td>\n",
              "    </tr>\n",
              "    <tr>\n",
              "      <th>3</th>\n",
              "      <td>VID_19442</td>\n",
              "      <td>1316715</td>\n",
              "      <td>2284</td>\n",
              "      <td>250</td>\n",
              "      <td>274</td>\n",
              "      <td>2010-06-05</td>\n",
              "      <td>PT9M55S</td>\n",
              "      <td>7</td>\n",
              "    </tr>\n",
              "    <tr>\n",
              "      <th>4</th>\n",
              "      <td>VID_770</td>\n",
              "      <td>1893173</td>\n",
              "      <td>2519</td>\n",
              "      <td>225</td>\n",
              "      <td>116</td>\n",
              "      <td>2016-09-03</td>\n",
              "      <td>PT3M8S</td>\n",
              "      <td>2</td>\n",
              "    </tr>\n",
              "  </tbody>\n",
              "</table>\n",
              "</div>"
            ],
            "text/plain": [
              "       vidid    views likes dislikes comment   published  duration category\n",
              "0   VID_1054   440238  6153      218    1377  2017-02-18   PT7M29S        2\n",
              "1  VID_18629  1040132  8171      340    1047  2016-06-28   PT6M29S        6\n",
              "2  VID_13967    28534    31       11       1  2014-03-10  PT37M54S        4\n",
              "3  VID_19442  1316715  2284      250     274  2010-06-05   PT9M55S        7\n",
              "4    VID_770  1893173  2519      225     116  2016-09-03    PT3M8S        2"
            ]
          },
          "metadata": {
            "tags": []
          },
          "execution_count": 57
        }
      ]
    },
    {
      "cell_type": "code",
      "metadata": {
        "id": "w-A42KwjySBg"
      },
      "source": [
        "data_test=data_test[data_test.views!='F']\r\n",
        "data_test=data_test[data_test.likes!='F']\r\n",
        "data_test=data_test[data_test.dislikes!='F']\r\n",
        "data_test=data_test[data_test.comment!='F']"
      ],
      "execution_count": null,
      "outputs": []
    },
    {
      "cell_type": "markdown",
      "metadata": {
        "id": "REE9bbud5r-I"
      },
      "source": [
        "convert string values to integers"
      ]
    },
    {
      "cell_type": "code",
      "metadata": {
        "id": "t8d3IeDCuO6D"
      },
      "source": [
        "data_test[\"views\"]=pd.to_numeric(data_test[\"views\"])\r\n",
        "data_test[\"comment\"]=pd.to_numeric(data_test[\"comment\"])\r\n",
        "data_test[\"likes\"]=pd.to_numeric(data_test[\"likes\"])\r\n",
        "data_test[\"dislikes\"]=pd.to_numeric(data_test[\"dislikes\"])\r\n",
        "#data_train[\"adview\"]=pd.to_numeric(data_train[\"adview\"])"
      ],
      "execution_count": null,
      "outputs": []
    },
    {
      "cell_type": "markdown",
      "metadata": {
        "id": "Fl2qg4Y45wcV"
      },
      "source": [
        "Encoding non-numerical features"
      ]
    },
    {
      "cell_type": "code",
      "metadata": {
        "id": "P-TnDnAmzA8Q"
      },
      "source": [
        "from sklearn.preprocessing import LabelEncoder\r\n",
        "data_test['duration']=LabelEncoder().fit_transform(data_test['duration'])\r\n",
        "data_test['vidid']=LabelEncoder().fit_transform(data_test['vidid'])\r\n",
        "data_test['published']=LabelEncoder().fit_transform(data_test['published'])"
      ],
      "execution_count": null,
      "outputs": []
    },
    {
      "cell_type": "code",
      "metadata": {
        "colab": {
          "base_uri": "https://localhost:8080/",
          "height": 195
        },
        "id": "x6mjoiI78m3b",
        "outputId": "c5312eb3-7348-41bf-997f-ac5017a1af00"
      },
      "source": [
        "data_test.head()"
      ],
      "execution_count": null,
      "outputs": [
        {
          "output_type": "execute_result",
          "data": {
            "text/html": [
              "<div>\n",
              "<style scoped>\n",
              "    .dataframe tbody tr th:only-of-type {\n",
              "        vertical-align: middle;\n",
              "    }\n",
              "\n",
              "    .dataframe tbody tr th {\n",
              "        vertical-align: top;\n",
              "    }\n",
              "\n",
              "    .dataframe thead th {\n",
              "        text-align: right;\n",
              "    }\n",
              "</style>\n",
              "<table border=\"1\" class=\"dataframe\">\n",
              "  <thead>\n",
              "    <tr style=\"text-align: right;\">\n",
              "      <th></th>\n",
              "      <th>vidid</th>\n",
              "      <th>views</th>\n",
              "      <th>likes</th>\n",
              "      <th>dislikes</th>\n",
              "      <th>comment</th>\n",
              "      <th>published</th>\n",
              "      <th>duration</th>\n",
              "      <th>category</th>\n",
              "    </tr>\n",
              "  </thead>\n",
              "  <tbody>\n",
              "    <tr>\n",
              "      <th>0</th>\n",
              "      <td>231</td>\n",
              "      <td>440238</td>\n",
              "      <td>6153</td>\n",
              "      <td>218</td>\n",
              "      <td>1377</td>\n",
              "      <td>2053</td>\n",
              "      <td>2115</td>\n",
              "      <td>2</td>\n",
              "    </tr>\n",
              "    <tr>\n",
              "      <th>1</th>\n",
              "      <td>3444</td>\n",
              "      <td>1040132</td>\n",
              "      <td>8171</td>\n",
              "      <td>340</td>\n",
              "      <td>1047</td>\n",
              "      <td>1825</td>\n",
              "      <td>2055</td>\n",
              "      <td>6</td>\n",
              "    </tr>\n",
              "    <tr>\n",
              "      <th>2</th>\n",
              "      <td>1593</td>\n",
              "      <td>28534</td>\n",
              "      <td>31</td>\n",
              "      <td>11</td>\n",
              "      <td>1</td>\n",
              "      <td>1009</td>\n",
              "      <td>1506</td>\n",
              "      <td>4</td>\n",
              "    </tr>\n",
              "    <tr>\n",
              "      <th>3</th>\n",
              "      <td>3775</td>\n",
              "      <td>1316715</td>\n",
              "      <td>2284</td>\n",
              "      <td>250</td>\n",
              "      <td>274</td>\n",
              "      <td>116</td>\n",
              "      <td>2265</td>\n",
              "      <td>7</td>\n",
              "    </tr>\n",
              "    <tr>\n",
              "      <th>4</th>\n",
              "      <td>7644</td>\n",
              "      <td>1893173</td>\n",
              "      <td>2519</td>\n",
              "      <td>225</td>\n",
              "      <td>116</td>\n",
              "      <td>1892</td>\n",
              "      <td>1625</td>\n",
              "      <td>2</td>\n",
              "    </tr>\n",
              "  </tbody>\n",
              "</table>\n",
              "</div>"
            ],
            "text/plain": [
              "   vidid    views  likes  dislikes  comment  published  duration category\n",
              "0    231   440238   6153       218     1377       2053      2115        2\n",
              "1   3444  1040132   8171       340     1047       1825      2055        6\n",
              "2   1593    28534     31        11        1       1009      1506        4\n",
              "3   3775  1316715   2284       250      274        116      2265        7\n",
              "4   7644  1893173   2519       225      116       1892      1625        2"
            ]
          },
          "metadata": {
            "tags": []
          },
          "execution_count": 61
        }
      ]
    },
    {
      "cell_type": "markdown",
      "metadata": {
        "id": "JJezUBV551Uf"
      },
      "source": [
        "Drop the vidid category"
      ]
    },
    {
      "cell_type": "code",
      "metadata": {
        "colab": {
          "base_uri": "https://localhost:8080/",
          "height": 195
        },
        "id": "5xS5BSPGhPoB",
        "outputId": "bc96616c-dbf7-413f-9199-194b28f34a07"
      },
      "source": [
        "data_test=data_test.drop([\"vidid\"],axis=1)\r\n",
        "data_test.head()"
      ],
      "execution_count": null,
      "outputs": [
        {
          "output_type": "execute_result",
          "data": {
            "text/html": [
              "<div>\n",
              "<style scoped>\n",
              "    .dataframe tbody tr th:only-of-type {\n",
              "        vertical-align: middle;\n",
              "    }\n",
              "\n",
              "    .dataframe tbody tr th {\n",
              "        vertical-align: top;\n",
              "    }\n",
              "\n",
              "    .dataframe thead th {\n",
              "        text-align: right;\n",
              "    }\n",
              "</style>\n",
              "<table border=\"1\" class=\"dataframe\">\n",
              "  <thead>\n",
              "    <tr style=\"text-align: right;\">\n",
              "      <th></th>\n",
              "      <th>views</th>\n",
              "      <th>likes</th>\n",
              "      <th>dislikes</th>\n",
              "      <th>comment</th>\n",
              "      <th>published</th>\n",
              "      <th>duration</th>\n",
              "      <th>category</th>\n",
              "    </tr>\n",
              "  </thead>\n",
              "  <tbody>\n",
              "    <tr>\n",
              "      <th>0</th>\n",
              "      <td>440238</td>\n",
              "      <td>6153</td>\n",
              "      <td>218</td>\n",
              "      <td>1377</td>\n",
              "      <td>2053</td>\n",
              "      <td>2115</td>\n",
              "      <td>2</td>\n",
              "    </tr>\n",
              "    <tr>\n",
              "      <th>1</th>\n",
              "      <td>1040132</td>\n",
              "      <td>8171</td>\n",
              "      <td>340</td>\n",
              "      <td>1047</td>\n",
              "      <td>1825</td>\n",
              "      <td>2055</td>\n",
              "      <td>6</td>\n",
              "    </tr>\n",
              "    <tr>\n",
              "      <th>2</th>\n",
              "      <td>28534</td>\n",
              "      <td>31</td>\n",
              "      <td>11</td>\n",
              "      <td>1</td>\n",
              "      <td>1009</td>\n",
              "      <td>1506</td>\n",
              "      <td>4</td>\n",
              "    </tr>\n",
              "    <tr>\n",
              "      <th>3</th>\n",
              "      <td>1316715</td>\n",
              "      <td>2284</td>\n",
              "      <td>250</td>\n",
              "      <td>274</td>\n",
              "      <td>116</td>\n",
              "      <td>2265</td>\n",
              "      <td>7</td>\n",
              "    </tr>\n",
              "    <tr>\n",
              "      <th>4</th>\n",
              "      <td>1893173</td>\n",
              "      <td>2519</td>\n",
              "      <td>225</td>\n",
              "      <td>116</td>\n",
              "      <td>1892</td>\n",
              "      <td>1625</td>\n",
              "      <td>2</td>\n",
              "    </tr>\n",
              "  </tbody>\n",
              "</table>\n",
              "</div>"
            ],
            "text/plain": [
              "     views  likes  dislikes  comment  published  duration category\n",
              "0   440238   6153       218     1377       2053      2115        2\n",
              "1  1040132   8171       340     1047       1825      2055        6\n",
              "2    28534     31        11        1       1009      1506        4\n",
              "3  1316715   2284       250      274        116      2265        7\n",
              "4  1893173   2519       225      116       1892      1625        2"
            ]
          },
          "metadata": {
            "tags": []
          },
          "execution_count": 65
        }
      ]
    },
    {
      "cell_type": "markdown",
      "metadata": {
        "id": "P0AnwEaT57o1"
      },
      "source": [
        "Coverting time in seconds"
      ]
    },
    {
      "cell_type": "code",
      "metadata": {
        "colab": {
          "base_uri": "https://localhost:8080/",
          "height": 195
        },
        "id": "M0l_eOxMVrVb",
        "outputId": "77e50ffe-6177-4e43-9dd3-5e32fb64f598"
      },
      "source": [
        "test=pd.read_csv(\"test.csv\")\r\n",
        "mp = pd.read_csv(\"/content/test.csv\")[\"duration\"]\r\n",
        "time = mp.apply(checki)\r\n",
        "\r\n",
        "time1=time.apply(func_sec)\r\n",
        "data_train[\"duration\"]=time1\r\n",
        "data_train.head()"
      ],
      "execution_count": null,
      "outputs": [
        {
          "output_type": "execute_result",
          "data": {
            "text/html": [
              "<div>\n",
              "<style scoped>\n",
              "    .dataframe tbody tr th:only-of-type {\n",
              "        vertical-align: middle;\n",
              "    }\n",
              "\n",
              "    .dataframe tbody tr th {\n",
              "        vertical-align: top;\n",
              "    }\n",
              "\n",
              "    .dataframe thead th {\n",
              "        text-align: right;\n",
              "    }\n",
              "</style>\n",
              "<table border=\"1\" class=\"dataframe\">\n",
              "  <thead>\n",
              "    <tr style=\"text-align: right;\">\n",
              "      <th></th>\n",
              "      <th>views</th>\n",
              "      <th>likes</th>\n",
              "      <th>dislikes</th>\n",
              "      <th>comment</th>\n",
              "      <th>published</th>\n",
              "      <th>duration</th>\n",
              "      <th>category</th>\n",
              "    </tr>\n",
              "  </thead>\n",
              "  <tbody>\n",
              "    <tr>\n",
              "      <th>0</th>\n",
              "      <td>1031602</td>\n",
              "      <td>8523</td>\n",
              "      <td>363</td>\n",
              "      <td>1095</td>\n",
              "      <td>2168</td>\n",
              "      <td>449.0</td>\n",
              "      <td>6</td>\n",
              "    </tr>\n",
              "    <tr>\n",
              "      <th>1</th>\n",
              "      <td>1707</td>\n",
              "      <td>56</td>\n",
              "      <td>2</td>\n",
              "      <td>6</td>\n",
              "      <td>2185</td>\n",
              "      <td>389.0</td>\n",
              "      <td>4</td>\n",
              "    </tr>\n",
              "    <tr>\n",
              "      <th>2</th>\n",
              "      <td>2023</td>\n",
              "      <td>25</td>\n",
              "      <td>0</td>\n",
              "      <td>2</td>\n",
              "      <td>2094</td>\n",
              "      <td>2274.0</td>\n",
              "      <td>3</td>\n",
              "    </tr>\n",
              "    <tr>\n",
              "      <th>3</th>\n",
              "      <td>620860</td>\n",
              "      <td>777</td>\n",
              "      <td>161</td>\n",
              "      <td>153</td>\n",
              "      <td>2119</td>\n",
              "      <td>595.0</td>\n",
              "      <td>8</td>\n",
              "    </tr>\n",
              "    <tr>\n",
              "      <th>4</th>\n",
              "      <td>666</td>\n",
              "      <td>1</td>\n",
              "      <td>0</td>\n",
              "      <td>0</td>\n",
              "      <td>2091</td>\n",
              "      <td>188.0</td>\n",
              "      <td>4</td>\n",
              "    </tr>\n",
              "  </tbody>\n",
              "</table>\n",
              "</div>"
            ],
            "text/plain": [
              "     views  likes  dislikes  comment  published  duration category\n",
              "0  1031602   8523       363     1095       2168     449.0        6\n",
              "1     1707     56         2        6       2185     389.0        4\n",
              "2     2023     25         0        2       2094    2274.0        3\n",
              "3   620860    777       161      153       2119     595.0        8\n",
              "4      666      1         0        0       2091     188.0        4"
            ]
          },
          "metadata": {
            "tags": []
          },
          "execution_count": 66
        }
      ]
    },
    {
      "cell_type": "markdown",
      "metadata": {
        "id": "rpCh9U-E6Pdg"
      },
      "source": [
        "HeatMap"
      ]
    },
    {
      "cell_type": "code",
      "metadata": {
        "colab": {
          "base_uri": "https://localhost:8080/",
          "height": 487
        },
        "id": "o6pYaNwvgfNS",
        "outputId": "de2082a3-d8c2-422c-d70a-2b85b5d89852"
      },
      "source": [
        "f, ax = plt.subplots(figsize=(10, 8))\r\n",
        "corr = data_test.corr()\r\n",
        "sns.heatmap(corr, mask=np.zeros_like(corr, dtype=np.bool), cmap=sns.diverging_palette(220, 10, as_cmap=True), square=True, ax=ax,annot=True)\r\n",
        "plt.show()"
      ],
      "execution_count": null,
      "outputs": [
        {
          "output_type": "display_data",
          "data": {
            "image/png": "[encoded data removed]",
            "text/plain": [
              "<Figure size 720x576 with 2 Axes>"
            ]
          },
          "metadata": {
            "tags": [],
            "needs_background": "light"
          }
        }
      ]
    },
    {
      "cell_type": "code",
      "metadata": {
        "colab": {
          "base_uri": "https://localhost:8080/"
        },
        "id": "aeKNIGK_owsb",
        "outputId": "ab6ccd13-be8a-4677-f745-eea841a29391"
      },
      "source": [
        "print(data_train)"
      ],
      "execution_count": null,
      "outputs": [
        {
          "output_type": "stream",
          "text": [
            "         views  likes  dislikes  comment  published  duration category\n",
            "0      1031602   8523       363     1095       2168     449.0        6\n",
            "1         1707     56         2        6       2185     389.0        4\n",
            "2         2023     25         0        2       2094    2274.0        3\n",
            "3       620860    777       161      153       2119     595.0        8\n",
            "4          666      1         0        0       2091     188.0        4\n",
            "...        ...    ...       ...      ...        ...       ...      ...\n",
            "14994   525949   1137        83       86       1683       NaN        1\n",
            "14995   665673   3849       156      569       1838       NaN        4\n",
            "14996     3479     16         1        1       1053       NaN        2\n",
            "14997      963      0         0        0        222       NaN        7\n",
            "14998    15212     22         5        4       1960       NaN        4\n",
            "\n",
            "[14636 rows x 7 columns]\n"
          ],
          "name": "stdout"
        }
      ]
    },
    {
      "cell_type": "markdown",
      "metadata": {
        "id": "C24Hdfpp6T_s"
      },
      "source": [
        "# Predicting and saving results"
      ]
    },
    {
      "cell_type": "markdown",
      "metadata": {
        "id": "wrBzH4RH6ZSs"
      },
      "source": [
        "load processed dataset to x"
      ]
    },
    {
      "cell_type": "code",
      "metadata": {
        "id": "eWjm121BphTj"
      },
      "source": [
        "x=data_test"
      ],
      "execution_count": null,
      "outputs": []
    },
    {
      "cell_type": "markdown",
      "metadata": {
        "id": "VmGovqsF6eWW"
      },
      "source": [
        "Make sure the array is uniform "
      ]
    },
    {
      "cell_type": "code",
      "metadata": {
        "id": "qWNnFdsfpfC8"
      },
      "source": [
        "x = np.asarray(x).astype(np.float32)"
      ],
      "execution_count": null,
      "outputs": []
    },
    {
      "cell_type": "markdown",
      "metadata": {
        "id": "-VI3aN5Q6oEU"
      },
      "source": [
        "convert numpy array to tensor"
      ]
    },
    {
      "cell_type": "code",
      "metadata": {
        "id": "cXLgH5CZn6hY"
      },
      "source": [
        "data_test_tensor = tf.convert_to_tensor(x)\r\n"
      ],
      "execution_count": null,
      "outputs": []
    },
    {
      "cell_type": "markdown",
      "metadata": {
        "id": "IuUsjm_56sW0"
      },
      "source": [
        "Load ANN model And run model "
      ]
    },
    {
      "cell_type": "code",
      "metadata": {
        "id": "uEkgj9LVqFv3"
      },
      "source": [
        "model = keras.models.load_model('/content/ann_youtubeadview.h5')\r\n"
      ],
      "execution_count": null,
      "outputs": []
    },
    {
      "cell_type": "markdown",
      "metadata": {
        "id": "oxf4RiXr7GA5"
      },
      "source": [
        "Run Model Prediction"
      ]
    },
    {
      "cell_type": "code",
      "metadata": {
        "id": "5YScZjo6r52V"
      },
      "source": [
        "test_predictions = model.predict(x).flatten()"
      ],
      "execution_count": null,
      "outputs": []
    },
    {
      "cell_type": "markdown",
      "metadata": {
        "id": "0i69CGIU6-Ld"
      },
      "source": [
        "Print predicted value"
      ]
    },
    {
      "cell_type": "code",
      "metadata": {
        "colab": {
          "base_uri": "https://localhost:8080/"
        },
        "id": "kSL43e77saSq",
        "outputId": "16819de6-0c9b-4f8b-a976-520f99c1def7"
      },
      "source": [
        "print(test_predictions)"
      ],
      "execution_count": null,
      "outputs": [
        {
          "output_type": "stream",
          "text": [
            "[2.4132952e+08 5.7022029e+08 1.2997855e+07 ... 1.0343924e+09 3.9009898e+08\n",
            " 5.1379115e+06]\n"
          ],
          "name": "stdout"
        }
      ]
    },
    {
      "cell_type": "markdown",
      "metadata": {
        "id": "cQ-r4-EA7RgP"
      },
      "source": [
        "Add the adview value to data test file"
      ]
    },
    {
      "cell_type": "code",
      "metadata": {
        "colab": {
          "base_uri": "https://localhost:8080/",
          "height": 195
        },
        "id": "dFefc-4_zJIY",
        "outputId": "d7eb0e42-23e1-412b-ea56-c908a4f4c4a0"
      },
      "source": [
        "data = data_test\r\n",
        "df = pd.DataFrame(data)\r\n",
        "df['adview'] = predictions\r\n",
        "df.head()"
      ],
      "execution_count": null,
      "outputs": [
        {
          "output_type": "execute_result",
          "data": {
            "text/html": [
              "<div>\n",
              "<style scoped>\n",
              "    .dataframe tbody tr th:only-of-type {\n",
              "        vertical-align: middle;\n",
              "    }\n",
              "\n",
              "    .dataframe tbody tr th {\n",
              "        vertical-align: top;\n",
              "    }\n",
              "\n",
              "    .dataframe thead th {\n",
              "        text-align: right;\n",
              "    }\n",
              "</style>\n",
              "<table border=\"1\" class=\"dataframe\">\n",
              "  <thead>\n",
              "    <tr style=\"text-align: right;\">\n",
              "      <th></th>\n",
              "      <th>views</th>\n",
              "      <th>likes</th>\n",
              "      <th>dislikes</th>\n",
              "      <th>comment</th>\n",
              "      <th>published</th>\n",
              "      <th>duration</th>\n",
              "      <th>category</th>\n",
              "      <th>adview</th>\n",
              "    </tr>\n",
              "  </thead>\n",
              "  <tbody>\n",
              "    <tr>\n",
              "      <th>0</th>\n",
              "      <td>440238</td>\n",
              "      <td>6153</td>\n",
              "      <td>218</td>\n",
              "      <td>1377</td>\n",
              "      <td>2053</td>\n",
              "      <td>2115</td>\n",
              "      <td>2</td>\n",
              "      <td>2.413295e+08</td>\n",
              "    </tr>\n",
              "    <tr>\n",
              "      <th>1</th>\n",
              "      <td>1040132</td>\n",
              "      <td>8171</td>\n",
              "      <td>340</td>\n",
              "      <td>1047</td>\n",
              "      <td>1825</td>\n",
              "      <td>2055</td>\n",
              "      <td>6</td>\n",
              "      <td>5.702203e+08</td>\n",
              "    </tr>\n",
              "    <tr>\n",
              "      <th>2</th>\n",
              "      <td>28534</td>\n",
              "      <td>31</td>\n",
              "      <td>11</td>\n",
              "      <td>1</td>\n",
              "      <td>1009</td>\n",
              "      <td>1506</td>\n",
              "      <td>4</td>\n",
              "      <td>1.299786e+07</td>\n",
              "    </tr>\n",
              "    <tr>\n",
              "      <th>3</th>\n",
              "      <td>1316715</td>\n",
              "      <td>2284</td>\n",
              "      <td>250</td>\n",
              "      <td>274</td>\n",
              "      <td>116</td>\n",
              "      <td>2265</td>\n",
              "      <td>7</td>\n",
              "      <td>7.160900e+08</td>\n",
              "    </tr>\n",
              "    <tr>\n",
              "      <th>4</th>\n",
              "      <td>1893173</td>\n",
              "      <td>2519</td>\n",
              "      <td>225</td>\n",
              "      <td>116</td>\n",
              "      <td>1892</td>\n",
              "      <td>1625</td>\n",
              "      <td>2</td>\n",
              "      <td>1.035128e+09</td>\n",
              "    </tr>\n",
              "  </tbody>\n",
              "</table>\n",
              "</div>"
            ],
            "text/plain": [
              "     views  likes  dislikes  ...  duration  category        adview\n",
              "0   440238   6153       218  ...      2115         2  2.413295e+08\n",
              "1  1040132   8171       340  ...      2055         6  5.702203e+08\n",
              "2    28534     31        11  ...      1506         4  1.299786e+07\n",
              "3  1316715   2284       250  ...      2265         7  7.160900e+08\n",
              "4  1893173   2519       225  ...      1625         2  1.035128e+09\n",
              "\n",
              "[5 rows x 8 columns]"
            ]
          },
          "metadata": {
            "tags": []
          },
          "execution_count": 98
        }
      ]
    },
    {
      "cell_type": "markdown",
      "metadata": {
        "id": "qgqVnHBi7aQv"
      },
      "source": [
        "write the predicted values to PredictedAdview.csv"
      ]
    },
    {
      "cell_type": "code",
      "metadata": {
        "colab": {
          "base_uri": "https://localhost:8080/"
        },
        "id": "-mrqRlMlA9ET",
        "outputId": "6197e088-e1cc-4a5c-9cc4-b99079db1615"
      },
      "source": [
        "#data = x\r\n",
        "df = pd.DataFrame(predictions)\r\n",
        "#df['adview'] = predictions\r\n",
        "df.head()\r\n",
        "print(predictions)"
      ],
      "execution_count": null,
      "outputs": [
        {
          "output_type": "stream",
          "text": [
            "[[2.4132952e+08]\n",
            " [5.7022029e+08]\n",
            " [1.2997855e+07]\n",
            " ...\n",
            " [1.0343924e+09]\n",
            " [3.9009898e+08]\n",
            " [5.1379115e+06]]\n"
          ],
          "name": "stdout"
        }
      ]
    },
    {
      "cell_type": "code",
      "metadata": {
        "colab": {
          "base_uri": "https://localhost:8080/",
          "height": 195
        },
        "id": "PD9pEr61A79l",
        "outputId": "d7eb0e42-23e1-412b-ea56-c908a4f4c4a0"
      },
      "source": [
        "data = data_test\r\n",
        "df = pd.DataFrame(data)\r\n",
        "df['adview'] = predictions\r\n",
        "df.head()"
      ],
      "execution_count": null,
      "outputs": [
        {
          "output_type": "execute_result",
          "data": {
            "text/html": [
              "<div>\n",
              "<style scoped>\n",
              "    .dataframe tbody tr th:only-of-type {\n",
              "        vertical-align: middle;\n",
              "    }\n",
              "\n",
              "    .dataframe tbody tr th {\n",
              "        vertical-align: top;\n",
              "    }\n",
              "\n",
              "    .dataframe thead th {\n",
              "        text-align: right;\n",
              "    }\n",
              "</style>\n",
              "<table border=\"1\" class=\"dataframe\">\n",
              "  <thead>\n",
              "    <tr style=\"text-align: right;\">\n",
              "      <th></th>\n",
              "      <th>views</th>\n",
              "      <th>likes</th>\n",
              "      <th>dislikes</th>\n",
              "      <th>comment</th>\n",
              "      <th>published</th>\n",
              "      <th>duration</th>\n",
              "      <th>category</th>\n",
              "      <th>adview</th>\n",
              "    </tr>\n",
              "  </thead>\n",
              "  <tbody>\n",
              "    <tr>\n",
              "      <th>0</th>\n",
              "      <td>440238</td>\n",
              "      <td>6153</td>\n",
              "      <td>218</td>\n",
              "      <td>1377</td>\n",
              "      <td>2053</td>\n",
              "      <td>2115</td>\n",
              "      <td>2</td>\n",
              "      <td>2.413295e+08</td>\n",
              "    </tr>\n",
              "    <tr>\n",
              "      <th>1</th>\n",
              "      <td>1040132</td>\n",
              "      <td>8171</td>\n",
              "      <td>340</td>\n",
              "      <td>1047</td>\n",
              "      <td>1825</td>\n",
              "      <td>2055</td>\n",
              "      <td>6</td>\n",
              "      <td>5.702203e+08</td>\n",
              "    </tr>\n",
              "    <tr>\n",
              "      <th>2</th>\n",
              "      <td>28534</td>\n",
              "      <td>31</td>\n",
              "      <td>11</td>\n",
              "      <td>1</td>\n",
              "      <td>1009</td>\n",
              "      <td>1506</td>\n",
              "      <td>4</td>\n",
              "      <td>1.299786e+07</td>\n",
              "    </tr>\n",
              "    <tr>\n",
              "      <th>3</th>\n",
              "      <td>1316715</td>\n",
              "      <td>2284</td>\n",
              "      <td>250</td>\n",
              "      <td>274</td>\n",
              "      <td>116</td>\n",
              "      <td>2265</td>\n",
              "      <td>7</td>\n",
              "      <td>7.160900e+08</td>\n",
              "    </tr>\n",
              "    <tr>\n",
              "      <th>4</th>\n",
              "      <td>1893173</td>\n",
              "      <td>2519</td>\n",
              "      <td>225</td>\n",
              "      <td>116</td>\n",
              "      <td>1892</td>\n",
              "      <td>1625</td>\n",
              "      <td>2</td>\n",
              "      <td>1.035128e+09</td>\n",
              "    </tr>\n",
              "  </tbody>\n",
              "</table>\n",
              "</div>"
            ],
            "text/plain": [
              "     views  likes  dislikes  ...  duration  category        adview\n",
              "0   440238   6153       218  ...      2115         2  2.413295e+08\n",
              "1  1040132   8171       340  ...      2055         6  5.702203e+08\n",
              "2    28534     31        11  ...      1506         4  1.299786e+07\n",
              "3  1316715   2284       250  ...      2265         7  7.160900e+08\n",
              "4  1893173   2519       225  ...      1625         2  1.035128e+09\n",
              "\n",
              "[5 rows x 8 columns]"
            ]
          },
          "metadata": {
            "tags": []
          },
          "execution_count": 98
        }
      ]
    },
    {
      "cell_type": "code",
      "metadata": {
        "id": "B4TK4hYE1g9o"
      },
      "source": [
        "df.to_csv('Predictedadview.csv')"
      ],
      "execution_count": null,
      "outputs": []
    }
  ]
}