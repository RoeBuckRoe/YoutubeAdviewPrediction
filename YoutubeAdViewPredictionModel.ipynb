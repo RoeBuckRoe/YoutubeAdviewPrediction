{
  "nbformat": 4,
  "nbformat_minor": 0,
  "metadata": {
    "colab": {
      "name": "YoutubeAdViewPredictionModelSelection.ipynb",
      "provenance": [],
      "collapsed_sections": []
    },
    "kernelspec": {
      "display_name": "Python 3",
      "name": "python3"
    }
  },
  "cells": [
    {
      "cell_type": "markdown",
      "metadata": {
        "id": "P_Pj0KMMYERX"
      },
      "source": [
        "# **Setting-up Libraries**"
      ]
    },
    {
      "cell_type": "code",
      "metadata": {
        "id": "Scgypp3zXweu"
      },
      "source": [
        "import numpy as np\r\n",
        "import pandas as pd\r\n",
        "import matplotlib.pyplot as plt\r\n",
        "import datetime\r\n",
        "import time\r\n",
        "import seaborn as sns\r\n",
        "from sklearn.preprocessing import MinMaxScaler\r\n",
        "from sklearn.model_selection import train_test_split\r\n",
        "from sklearn import metrics\r\n",
        "from sklearn import linear_model\r\n",
        "from sklearn.svm import SVR\r\n",
        "from sklearn.tree import DecisionTreeRegressor\r\n",
        "from sklearn.ensemble import RandomForestRegressor\r\n",
        "import keras\r\n",
        "import joblib\r\n",
        "import tensorflow as tf"
      ],
      "execution_count": null,
      "outputs": []
    },
    {
      "cell_type": "markdown",
      "metadata": {
        "id": "4N7DaPS1XJix"
      },
      "source": [
        "# **Data Preprocessing**"
      ]
    },
    {
      "cell_type": "markdown",
      "metadata": {
        "id": "gCjxFIQCbHHH"
      },
      "source": [
        "Importing data"
      ]
    },
    {
      "cell_type": "code",
      "metadata": {
        "id": "v9BGWiRNcG9I"
      },
      "source": [
        "from google.colab import files\r\n",
        "\r\n",
        "uploaded = files.upload()"
      ],
      "execution_count": null,
      "outputs": []
    },
    {
      "cell_type": "markdown",
      "metadata": {
        "id": "OFZ4JFJweTs_"
      },
      "source": [
        "Loading data "
      ]
    },
    {
      "cell_type": "code",
      "metadata": {
        "id": "BzWRYGqfdoyX"
      },
      "source": [
        "data_train=pd.read_csv(\"/content/train.csv\")"
      ],
      "execution_count": null,
      "outputs": []
    },
    {
      "cell_type": "markdown",
      "metadata": {
        "id": "P1l9CnWYec1H"
      },
      "source": [
        "Verifying Data"
      ]
    },
    {
      "cell_type": "code",
      "metadata": {
        "id": "gzCtBmYVegXn"
      },
      "source": [
        "data_train.head()"
      ],
      "execution_count": null,
      "outputs": []
    },
    {
      "cell_type": "code",
      "metadata": {
        "id": "6lubxCKQexFn"
      },
      "source": [
        "data_train.shape"
      ],
      "execution_count": null,
      "outputs": []
    },
    {
      "cell_type": "markdown",
      "metadata": {
        "id": "br8u7fU6fD1l"
      },
      "source": [
        "Assigning numbers for category features"
      ]
    },
    {
      "cell_type": "code",
      "metadata": {
        "id": "8hkFl7QXO_1H"
      },
      "source": [
        "data_train.category[data_train.category == 'A'] = 1\r\n",
        "data_train.category[data_train.category == 'B'] = 2\r\n",
        "data_train.category[data_train.category == 'C'] = 3\r\n",
        "data_train.category[data_train.category == 'D'] = 4\r\n",
        "data_train.category[data_train.category == 'E'] = 5\r\n",
        "data_train.category[data_train.category == 'F'] = 6\r\n",
        "data_train.category[data_train.category == 'G'] = 7\r\n",
        "data_train.category[data_train.category == 'H'] = 8\r\n",
        "data_train.head()"
      ],
      "execution_count": null,
      "outputs": []
    },
    {
      "cell_type": "code",
      "metadata": {
        "id": "SJWtz0YjfIYd"
      },
      "source": [
        "#category={'A':1,'B':2,'C':3,'D':4,'E':5,'F':6,'G':7,'H':8}\r\n",
        "#data_train[\"category\"]=data_train[\"category\"].map(category)\r\n",
        "#data_train.head()"
      ],
      "execution_count": null,
      "outputs": []
    },
    {
      "cell_type": "code",
      "metadata": {
        "id": "qNcd1Gn2wN_j"
      },
      "source": [
        "data_train=data_train[data_train.views!='F']\r\n",
        "data_train=data_train[data_train.likes!='F']\r\n",
        "data_train=data_train[data_train.dislikes!='F']\r\n",
        "data_train=data_train[data_train.comment!='F']"
      ],
      "execution_count": null,
      "outputs": []
    },
    {
      "cell_type": "markdown",
      "metadata": {
        "id": "SCTFPniGm0-O"
      },
      "source": [
        "convert string values to integers"
      ]
    },
    {
      "cell_type": "code",
      "metadata": {
        "id": "f3Pw6NkAm5yP"
      },
      "source": [
        "data_train[\"views\"]=pd.to_numeric(data_train[\"views\"])\r\n",
        "data_train[\"comment\"]=pd.to_numeric(data_train[\"comment\"])\r\n",
        "data_train[\"likes\"]=pd.to_numeric(data_train[\"likes\"])\r\n",
        "data_train[\"dislikes\"]=pd.to_numeric(data_train[\"dislikes\"])\r\n",
        "data_train[\"adview\"]=pd.to_numeric(data_train[\"adview\"])"
      ],
      "execution_count": null,
      "outputs": []
    },
    {
      "cell_type": "code",
      "metadata": {
        "id": "Eit4NyutnmsE"
      },
      "source": [
        "colum_vidid=data_train['vidid']"
      ],
      "execution_count": null,
      "outputs": []
    },
    {
      "cell_type": "markdown",
      "metadata": {
        "id": "dmHN3WP7n41N"
      },
      "source": [
        "Encoding non-numerical features"
      ]
    },
    {
      "cell_type": "code",
      "metadata": {
        "id": "q9lzUeKToAr0"
      },
      "source": [
        "from sklearn.preprocessing import LabelEncoder\r\n",
        "data_train['duration']=LabelEncoder().fit_transform(data_train['duration'])\r\n",
        "data_train['vidid']=LabelEncoder().fit_transform(data_train['vidid'])\r\n",
        "data_train['published']=LabelEncoder().fit_transform(data_train['published'])"
      ],
      "execution_count": null,
      "outputs": []
    },
    {
      "cell_type": "code",
      "metadata": {
        "id": "IW0xjKQzpPIb"
      },
      "source": [
        "data_train.head()"
      ],
      "execution_count": null,
      "outputs": []
    },
    {
      "cell_type": "markdown",
      "metadata": {
        "id": "5Uc1c1gMphB1"
      },
      "source": [
        "Coverting time in seconds"
      ]
    },
    {
      "cell_type": "code",
      "metadata": {
        "id": "zWWIQ7Myp-wl"
      },
      "source": [
        "def checki(x):\r\n",
        "    y = x[2:]\r\n",
        "    h = ''\r\n",
        "    m = ''\r\n",
        "    s = ''\r\n",
        "    mm = ''\r\n",
        "    P = [ 'H','M','S']\r\n",
        "    for i in y:\r\n",
        "        if i not in P:\r\n",
        "            mm+=i\r\n",
        "        else:\r\n",
        "            if (i==\"H\"):\r\n",
        "                h = mm\r\n",
        "                mm = ''\r\n",
        "            elif (i == \"M\"):\r\n",
        "                m = mm\r\n",
        "                mm = ''\r\n",
        "            else:\r\n",
        "                s = mm \r\n",
        "                mm = ''\r\n",
        "    if (h==''):\r\n",
        "        h = '00'\r\n",
        "    if (m==''):\r\n",
        "        m = '00'\r\n",
        "    if (s==''):\r\n",
        "        s = '00'\r\n",
        "    bp = h+':'+m+':'+s\r\n",
        "    return bp\r\n",
        "train=pd.read_csv(\"train.csv\")\r\n",
        "mp = pd.read_csv(\"/content/train.csv\")[\"duration\"]\r\n",
        "time = mp.apply(checki)\r\n",
        "\r\n",
        "def func_sec(time_string):\r\n",
        "    h,m,s = time_string.split(':')\r\n",
        "    return int (h) * 3600 + int (m) * 60 + int(s)\r\n",
        "\r\n",
        "time1=time.apply(func_sec)\r\n",
        "data_train[\"duration\"]=time1\r\n",
        "data_train.head()"
      ],
      "execution_count": null,
      "outputs": []
    },
    {
      "cell_type": "markdown",
      "metadata": {
        "id": "j6fK7pEavo0z"
      },
      "source": [
        "# **DATA VISUALIZATION**"
      ]
    },
    {
      "cell_type": "markdown",
      "metadata": {
        "id": "ApoBZvsywh3z"
      },
      "source": [
        "Individual plots\r\n"
      ]
    },
    {
      "cell_type": "code",
      "metadata": {
        "id": "oNXSKF01vyLM"
      },
      "source": [
        "plt.hist(data_train[\"category\"])\r\n",
        "plt.show\r\n",
        "plt.hist(data_train[\"adview\"])\r\n",
        "plt.show"
      ],
      "execution_count": null,
      "outputs": []
    },
    {
      "cell_type": "markdown",
      "metadata": {
        "id": "W9vAAzL6wmMF"
      },
      "source": [
        "Remove videos with adview > 2000000"
      ]
    },
    {
      "cell_type": "code",
      "metadata": {
        "id": "Jy0z4q51wvfS"
      },
      "source": [
        "data_train=data_train[data_train[\"adview\"]<2000000]"
      ],
      "execution_count": null,
      "outputs": []
    },
    {
      "cell_type": "code",
      "metadata": {
        "id": "DR0GP-xAvjyk"
      },
      "source": [
        "plt.hist(data_train[\"category\"])\r\n",
        "plt.show\r\n",
        "plt.hist(data_train[\"adview\"])\r\n",
        "plt.show"
      ],
      "execution_count": null,
      "outputs": []
    },
    {
      "cell_type": "markdown",
      "metadata": {
        "id": "w6Gtl47yw96D"
      },
      "source": [
        "HeatMap"
      ]
    },
    {
      "cell_type": "code",
      "metadata": {
        "id": "S1zDGSAWxAl6"
      },
      "source": [
        "f, ax = plt.subplots(figsize=(10, 8))\r\n",
        "corr = data_train.corr()\r\n",
        "sns.heatmap(corr, mask=np.zeros_like(corr, dtype=np.bool), cmap=sns.diverging_palette(220, 10, as_cmap=True), square=True, ax=ax,annot=True)\r\n",
        "plt.show()"
      ],
      "execution_count": null,
      "outputs": []
    },
    {
      "cell_type": "markdown",
      "metadata": {
        "id": "WuCkm4-j4BoD"
      },
      "source": [
        "Split Data"
      ]
    },
    {
      "cell_type": "code",
      "metadata": {
        "id": "5ZxTKrBq1ko-"
      },
      "source": [
        "Y_train = pd.DataFrame(data = data_train.iloc[:, 1].values, columns = ['target'])\r\n",
        "data_train=data_train.drop([\"adview\"],axis=1)\r\n",
        "data_train=data_train.drop([\"vidid\"],axis=1)\r\n",
        "data_train.head()\r\n",
        "\r\n",
        "X_train, X_test, y_train, y_test = train_test_split(data_train, Y_train, test_size=0.2, random_state=42)\r\n",
        "\r\n",
        "X_train.shape\r\n"
      ],
      "execution_count": null,
      "outputs": []
    },
    {
      "cell_type": "markdown",
      "metadata": {
        "id": "rhf2hhEF65pG"
      },
      "source": [
        "Normalise Data"
      ]
    },
    {
      "cell_type": "code",
      "metadata": {
        "id": "OJpy-NNn6_iW"
      },
      "source": [
        "scaler = MinMaxScaler()\r\n",
        "X_train=scaler.fit_transform(X_train)\r\n",
        "X_test=scaler.fit_transform(X_test)\r\n",
        "X_train.mean()"
      ],
      "execution_count": null,
      "outputs": []
    },
    {
      "cell_type": "markdown",
      "metadata": {
        "id": "BS4IcF-f_1mi"
      },
      "source": [
        "Evaluation matrices"
      ]
    },
    {
      "cell_type": "code",
      "metadata": {
        "id": "GlZEn5uK_53y"
      },
      "source": [
        "def print_error(X_test, y_test, model_name):\r\n",
        "    prediction = model_name.predict(X_test)\r\n",
        "    print('Mean Absolute Error:', metrics.mean_absolute_error(y_test, prediction))\r\n",
        "    print('Mean Squared Error:', metrics.mean_squared_error(y_test, prediction))\r\n",
        "    print('Root Mean Squared Error:', np.sqrt(metrics.mean_squared_error(y_test, prediction)))\r\n"
      ],
      "execution_count": null,
      "outputs": []
    },
    {
      "cell_type": "markdown",
      "metadata": {
        "id": "RtOXgL8sAIfi"
      },
      "source": [
        "Linear Regression"
      ]
    },
    {
      "cell_type": "code",
      "metadata": {
        "id": "NGzM09HXAML6"
      },
      "source": [
        "linear_regression = linear_model.LinearRegression()\r\n",
        "linear_regression.fit(X_train, y_train)\r\n",
        "print_error(X_test,y_test, linear_regression)"
      ],
      "execution_count": null,
      "outputs": []
    },
    {
      "cell_type": "markdown",
      "metadata": {
        "id": "3OnkqjeDAWlz"
      },
      "source": [
        "Support Vector Regressor"
      ]
    },
    {
      "cell_type": "code",
      "metadata": {
        "id": "IlEBQqMfAakb"
      },
      "source": [
        "supportvector_regressor = SVR()\r\n",
        "supportvector_regressor.fit(X_train,y_train)\r\n",
        "print_error(X_test,y_test, linear_regression)\r\n"
      ],
      "execution_count": null,
      "outputs": []
    },
    {
      "cell_type": "markdown",
      "metadata": {
        "id": "IJh5pVDZAmSb"
      },
      "source": [
        "Decision Tree Regressor"
      ]
    },
    {
      "cell_type": "code",
      "metadata": {
        "id": "0Su3jMb1Aoza"
      },
      "source": [
        "decision_tree = DecisionTreeRegressor()\r\n",
        "decision_tree.fit(X_train, y_train)\r\n",
        "print_error(X_test,y_test, decision_tree)"
      ],
      "execution_count": null,
      "outputs": []
    },
    {
      "cell_type": "markdown",
      "metadata": {
        "id": "_g1ooj01A4Gj"
      },
      "source": [
        "Random Forest Regressor\r\n"
      ]
    },
    {
      "cell_type": "code",
      "metadata": {
        "id": "o9k3N0NiA6cs"
      },
      "source": [
        "n_estimators = 200\r\n",
        "max_depth = 25\r\n",
        "min_samples_split=15\r\n",
        "min_samples_leaf=2\r\n",
        "random_forest = RandomForestRegressor(n_estimators = n_estimators, max_depth = max_depth, min_samples_split=min_samples_spli\r\n",
        "random_forest.fit(X_train,y_train)\r\n",
        "print_error(X_test,y_test, random_forest)"
      ],
      "execution_count": null,
      "outputs": []
    },
    {
      "cell_type": "markdown",
      "metadata": {
        "id": "Dc55YvnlBtLC"
      },
      "source": [
        "## **Training ANN**"
      ]
    },
    {
      "cell_type": "markdown",
      "metadata": {
        "id": "JGH_NxhuBxh6"
      },
      "source": [
        "Artificial Neural Network"
      ]
    },
    {
      "cell_type": "code",
      "metadata": {
        "id": "qDeEJuwDB698"
      },
      "source": [
        "from keras.layers import Dense\r\n",
        "ann = keras.models.Sequential([\r\n",
        "Dense(6, activation=\"relu\",\r\n",
        "input_shape=X_train.shape[1:]),\r\n",
        "Dense(6,activation=\"relu\"),\r\n",
        "Dense(1)\r\n",
        "])\r\n",
        "optimizer=keras.optimizers.Adam()\r\n",
        "loss=keras.losses.mean_squared_error\r\n",
        "ann.compile(optimizer=optimizer,loss=loss,metrics=[\"mean_squared_error\"])\r\n",
        "history=ann.fit(X_train,y_train,epochs=100)\r\n",
        "ann.summary()\r\n",
        "print_error(X_test,y_test,ann)"
      ],
      "execution_count": null,
      "outputs": []
    }
  ]
}